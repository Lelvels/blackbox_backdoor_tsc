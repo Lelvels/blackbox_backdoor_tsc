{
 "cells": [
  {
   "cell_type": "code",
   "execution_count": 1,
   "id": "7f8b952d",
   "metadata": {},
   "outputs": [
    {
     "name": "stdout",
     "output_type": "stream",
     "text": [
      "Current working directory: /home/fmg2/v-thanh/Code/source/Time_Series_Backdoor_Attack\n"
     ]
    },
    {
     "name": "stderr",
     "output_type": "stream",
     "text": [
      "2025-06-29 17:13:32.753958: E external/local_xla/xla/stream_executor/cuda/cuda_fft.cc:467] Unable to register cuFFT factory: Attempting to register factory for plugin cuFFT when one has already been registered\n",
      "WARNING: All log messages before absl::InitializeLog() is called are written to STDERR\n",
      "E0000 00:00:1751184812.767304 1365322 cuda_dnn.cc:8579] Unable to register cuDNN factory: Attempting to register factory for plugin cuDNN when one has already been registered\n",
      "E0000 00:00:1751184812.771188 1365322 cuda_blas.cc:1407] Unable to register cuBLAS factory: Attempting to register factory for plugin cuBLAS when one has already been registered\n",
      "W0000 00:00:1751184812.782096 1365322 computation_placer.cc:177] computation placer already registered. Please check linkage and avoid linking the same target more than once.\n",
      "W0000 00:00:1751184812.782114 1365322 computation_placer.cc:177] computation placer already registered. Please check linkage and avoid linking the same target more than once.\n",
      "W0000 00:00:1751184812.782115 1365322 computation_placer.cc:177] computation placer already registered. Please check linkage and avoid linking the same target more than once.\n",
      "W0000 00:00:1751184812.782116 1365322 computation_placer.cc:177] computation placer already registered. Please check linkage and avoid linking the same target more than once.\n",
      "2025-06-29 17:13:32.785727: I tensorflow/core/platform/cpu_feature_guard.cc:210] This TensorFlow binary is optimized to use available CPU instructions in performance-critical operations.\n",
      "To enable the following instructions: AVX2 FMA, in other operations, rebuild TensorFlow with the appropriate compiler flags.\n"
     ]
    }
   ],
   "source": [
    "import os\n",
    "os.chdir('/home/fmg2/v-thanh/Code/source/Time_Series_Backdoor_Attack') \n",
    "cwd = os.getcwd()\n",
    "print(\"Current working directory:\", cwd)\n",
    "\n",
    "import pandas as pd\n",
    "import numpy as np\n",
    "import sys\n",
    "import yaml\n",
    "import numpy as np\n",
    "import logging\n",
    "import keras\n",
    "import tensorflow as tf\n",
    "from utils.constants import RESULT_DIR, SRC_DIR, SEED\n",
    "from utils.data_handler import get_tsc_train_dataset, preprocess_data\n",
    "from models.clf_wrapper import ClassifierWrapper\n",
    "from models.trigger_gen import TriggerGenerator\n",
    "from matplotlib import pyplot as plt\n",
    "\n",
    "import numpy as np\n",
    "import matplotlib.pyplot as plt\n",
    "import seaborn as sns\n",
    "from sklearn.manifold import TSNE\n",
    "from sklearn.decomposition import PCA\n",
    "from sklearn.preprocessing import StandardScaler\n",
    "import warnings\n",
    "import tensorflow as tf\n",
    "from tensorboard.backend.event_processing.event_accumulator import EventAccumulator\n",
    "import matplotlib.pyplot as plt\n",
    "import numpy as np\n",
    "import os\n",
    "warnings.filterwarnings('ignore')\n",
    "\n",
    "np.random.seed(SEED)\n",
    "tf.random.set_seed(SEED)"
   ]
  },
  {
   "cell_type": "code",
   "execution_count": 3,
   "id": "1015c5a5",
   "metadata": {},
   "outputs": [
    {
     "name": "stdout",
     "output_type": "stream",
     "text": [
      "Dataset iAWE reduced to 3.0% with stratified sampling\n",
      "Shape of x_train: (18893, 120, 4), y_train: (18893,)\n",
      "Shape of x_test: (4720, 120, 4), y_test: (4720,)\n",
      "Data distribution: (array([0, 1, 2, 3, 4, 5]), array([1320, 1470, 5840, 8871, 1366,   26]))\n",
      "y_train shape before encoding: (18893,)\n",
      "y_test shape before encoding: (4720,)\n"
     ]
    }
   ],
   "source": [
    "dataset_name = \"iAWE\"\n",
    "data_ratio = 0.03\n",
    "\n",
    "x_train, y_train, x_test, y_test = get_tsc_train_dataset(\n",
    "    dataset_name=dataset_name,\n",
    "    data_ratio=data_ratio,\n",
    "    data_type=\"atk\"\n",
    ")\n",
    "print(f\"Data distribution: {np.unique(y_train, return_counts=True)}\")\n",
    "x_train, y_train, x_test, y_test, enc = preprocess_data(x_train, y_train, x_test, y_test)"
   ]
  }
 ],
 "metadata": {
  "kernelspec": {
   "display_name": "Python 3 (ipykernel)",
   "language": "python",
   "name": "python3"
  }
 },
 "nbformat": 4,
 "nbformat_minor": 5
}
